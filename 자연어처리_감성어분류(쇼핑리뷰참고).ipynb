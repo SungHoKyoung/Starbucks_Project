{
 "cells": [
  {
   "cell_type": "markdown",
   "metadata": {
    "id": "EO0zQTU-YCbk"
   },
   "source": [
    "# **[딥러닝을 이용한 자연어 처리 입문]**\n",
    "\n",
    "+ 11 RNN을 이용한 텍스트 분류 \n",
    "\n",
    "+ 7) 네이버 쇼핑 리뷰 감성 분류하기(Naver Shopping Review Sentiment Analysis)를 참고하였습니다. \n",
    "\n",
    "+ https://wikidocs.net/94600"
   ]
  },
  {
   "cell_type": "code",
   "execution_count": 11,
   "metadata": {
    "id": "8HK9ahF2KUW9"
   },
   "outputs": [
    {
     "name": "stdout",
     "output_type": "stream",
     "text": [
      "C:\\3pm\\Final\\final_project\\Mecab-ko-for-Google-Colab\n"
     ]
    },
    {
     "name": "stderr",
     "output_type": "stream",
     "text": [
      "fatal: destination path 'Mecab-ko-for-Google-Colab' already exists and is not an empty directory.\n",
      "'bash'은(는) 내부 또는 외부 명령, 실행할 수 있는 프로그램, 또는\n",
      "배치 파일이 아닙니다.\n"
     ]
    }
   ],
   "source": [
    "!git clone https://github.com/SOMJANG/Mecab-ko-for-Google-Colab.git\n",
    "%cd Mecab-ko-for-Google-Colab\n",
    "!bash install_mecab-ko_on_colab190912.sh"
   ]
  },
  {
   "cell_type": "code",
   "execution_count": 16,
   "metadata": {
    "executionInfo": {
     "elapsed": 7,
     "status": "ok",
     "timestamp": 1629020911494,
     "user": {
      "displayName": "서울시향 서포터즈7기 성호경",
      "photoUrl": "https://lh3.googleusercontent.com/a-/AOh14GhKqXPYW12ksT9T2iDN85rBmRNY-SA6FbBo_dvbJA=s64",
      "userId": "12445807510985383937"
     },
     "user_tz": -540
    },
    "id": "NS3dVRSSKUZM"
   },
   "outputs": [],
   "source": [
    "import pandas as pd\n",
    "import numpy as np\n",
    "import matplotlib.pyplot as plt\n",
    "import urllib.request\n",
    "from collections import Counter\n",
    "from konlpy.tag import Mecab\n",
    "from sklearn.model_selection import train_test_split\n",
    "from tensorflow.keras.preprocessing.text import Tokenizer\n",
    "from tensorflow.keras.preprocessing.sequence import pad_sequences\n",
    "import io"
   ]
  },
  {
   "cell_type": "markdown",
   "metadata": {
    "id": "aUNj7mSQP6tu"
   },
   "source": [
    "## 데이터 불러오기"
   ]
  },
  {
   "cell_type": "code",
   "execution_count": 17,
   "metadata": {
    "colab": {
     "base_uri": "https://localhost:8080/",
     "height": 288
    },
    "executionInfo": {
     "elapsed": 277,
     "status": "ok",
     "timestamp": 1629021300122,
     "user": {
      "displayName": "서울시향 서포터즈7기 성호경",
      "photoUrl": "https://lh3.googleusercontent.com/a-/AOh14GhKqXPYW12ksT9T2iDN85rBmRNY-SA6FbBo_dvbJA=s64",
      "userId": "12445807510985383937"
     },
     "user_tz": -540
    },
    "id": "NzoseNVnKUde",
    "outputId": "4e628ef5-11b9-496f-923a-6c020827f4d3"
   },
   "outputs": [
    {
     "ename": "FileNotFoundError",
     "evalue": "[Errno 2] No such file or directory: '네이버 쇼핑/Apple(shopping).csv'",
     "output_type": "error",
     "traceback": [
      "\u001b[1;31m---------------------------------------------------------------------------\u001b[0m",
      "\u001b[1;31mFileNotFoundError\u001b[0m                         Traceback (most recent call last)",
      "\u001b[1;32m<ipython-input-17-6cb3b1c5670e>\u001b[0m in \u001b[0;36m<module>\u001b[1;34m\u001b[0m\n\u001b[1;32m----> 1\u001b[1;33m \u001b[0mdata\u001b[0m \u001b[1;33m=\u001b[0m \u001b[0mpd\u001b[0m\u001b[1;33m.\u001b[0m\u001b[0mread_csv\u001b[0m\u001b[1;33m(\u001b[0m\u001b[1;34m'네이버 쇼핑/Apple(shopping).csv'\u001b[0m\u001b[1;33m,\u001b[0m \u001b[0mindex_col\u001b[0m\u001b[1;33m=\u001b[0m\u001b[1;36m0\u001b[0m\u001b[1;33m)\u001b[0m\u001b[1;33m\u001b[0m\u001b[1;33m\u001b[0m\u001b[0m\n\u001b[0m\u001b[0;32m      2\u001b[0m \u001b[0mdata\u001b[0m\u001b[1;33m.\u001b[0m\u001b[0mhead\u001b[0m\u001b[1;33m(\u001b[0m\u001b[1;33m)\u001b[0m\u001b[1;33m\u001b[0m\u001b[1;33m\u001b[0m\u001b[0m\n",
      "\u001b[1;32m~\\anaconda3\\lib\\site-packages\\pandas\\io\\parsers.py\u001b[0m in \u001b[0;36mread_csv\u001b[1;34m(filepath_or_buffer, sep, delimiter, header, names, index_col, usecols, squeeze, prefix, mangle_dupe_cols, dtype, engine, converters, true_values, false_values, skipinitialspace, skiprows, skipfooter, nrows, na_values, keep_default_na, na_filter, verbose, skip_blank_lines, parse_dates, infer_datetime_format, keep_date_col, date_parser, dayfirst, cache_dates, iterator, chunksize, compression, thousands, decimal, lineterminator, quotechar, quoting, doublequote, escapechar, comment, encoding, dialect, error_bad_lines, warn_bad_lines, delim_whitespace, low_memory, memory_map, float_precision)\u001b[0m\n\u001b[0;32m    684\u001b[0m     )\n\u001b[0;32m    685\u001b[0m \u001b[1;33m\u001b[0m\u001b[0m\n\u001b[1;32m--> 686\u001b[1;33m     \u001b[1;32mreturn\u001b[0m \u001b[0m_read\u001b[0m\u001b[1;33m(\u001b[0m\u001b[0mfilepath_or_buffer\u001b[0m\u001b[1;33m,\u001b[0m \u001b[0mkwds\u001b[0m\u001b[1;33m)\u001b[0m\u001b[1;33m\u001b[0m\u001b[1;33m\u001b[0m\u001b[0m\n\u001b[0m\u001b[0;32m    687\u001b[0m \u001b[1;33m\u001b[0m\u001b[0m\n\u001b[0;32m    688\u001b[0m \u001b[1;33m\u001b[0m\u001b[0m\n",
      "\u001b[1;32m~\\anaconda3\\lib\\site-packages\\pandas\\io\\parsers.py\u001b[0m in \u001b[0;36m_read\u001b[1;34m(filepath_or_buffer, kwds)\u001b[0m\n\u001b[0;32m    450\u001b[0m \u001b[1;33m\u001b[0m\u001b[0m\n\u001b[0;32m    451\u001b[0m     \u001b[1;31m# Create the parser.\u001b[0m\u001b[1;33m\u001b[0m\u001b[1;33m\u001b[0m\u001b[1;33m\u001b[0m\u001b[0m\n\u001b[1;32m--> 452\u001b[1;33m     \u001b[0mparser\u001b[0m \u001b[1;33m=\u001b[0m \u001b[0mTextFileReader\u001b[0m\u001b[1;33m(\u001b[0m\u001b[0mfp_or_buf\u001b[0m\u001b[1;33m,\u001b[0m \u001b[1;33m**\u001b[0m\u001b[0mkwds\u001b[0m\u001b[1;33m)\u001b[0m\u001b[1;33m\u001b[0m\u001b[1;33m\u001b[0m\u001b[0m\n\u001b[0m\u001b[0;32m    453\u001b[0m \u001b[1;33m\u001b[0m\u001b[0m\n\u001b[0;32m    454\u001b[0m     \u001b[1;32mif\u001b[0m \u001b[0mchunksize\u001b[0m \u001b[1;32mor\u001b[0m \u001b[0miterator\u001b[0m\u001b[1;33m:\u001b[0m\u001b[1;33m\u001b[0m\u001b[1;33m\u001b[0m\u001b[0m\n",
      "\u001b[1;32m~\\anaconda3\\lib\\site-packages\\pandas\\io\\parsers.py\u001b[0m in \u001b[0;36m__init__\u001b[1;34m(self, f, engine, **kwds)\u001b[0m\n\u001b[0;32m    944\u001b[0m             \u001b[0mself\u001b[0m\u001b[1;33m.\u001b[0m\u001b[0moptions\u001b[0m\u001b[1;33m[\u001b[0m\u001b[1;34m\"has_index_names\"\u001b[0m\u001b[1;33m]\u001b[0m \u001b[1;33m=\u001b[0m \u001b[0mkwds\u001b[0m\u001b[1;33m[\u001b[0m\u001b[1;34m\"has_index_names\"\u001b[0m\u001b[1;33m]\u001b[0m\u001b[1;33m\u001b[0m\u001b[1;33m\u001b[0m\u001b[0m\n\u001b[0;32m    945\u001b[0m \u001b[1;33m\u001b[0m\u001b[0m\n\u001b[1;32m--> 946\u001b[1;33m         \u001b[0mself\u001b[0m\u001b[1;33m.\u001b[0m\u001b[0m_make_engine\u001b[0m\u001b[1;33m(\u001b[0m\u001b[0mself\u001b[0m\u001b[1;33m.\u001b[0m\u001b[0mengine\u001b[0m\u001b[1;33m)\u001b[0m\u001b[1;33m\u001b[0m\u001b[1;33m\u001b[0m\u001b[0m\n\u001b[0m\u001b[0;32m    947\u001b[0m \u001b[1;33m\u001b[0m\u001b[0m\n\u001b[0;32m    948\u001b[0m     \u001b[1;32mdef\u001b[0m \u001b[0mclose\u001b[0m\u001b[1;33m(\u001b[0m\u001b[0mself\u001b[0m\u001b[1;33m)\u001b[0m\u001b[1;33m:\u001b[0m\u001b[1;33m\u001b[0m\u001b[1;33m\u001b[0m\u001b[0m\n",
      "\u001b[1;32m~\\anaconda3\\lib\\site-packages\\pandas\\io\\parsers.py\u001b[0m in \u001b[0;36m_make_engine\u001b[1;34m(self, engine)\u001b[0m\n\u001b[0;32m   1176\u001b[0m     \u001b[1;32mdef\u001b[0m \u001b[0m_make_engine\u001b[0m\u001b[1;33m(\u001b[0m\u001b[0mself\u001b[0m\u001b[1;33m,\u001b[0m \u001b[0mengine\u001b[0m\u001b[1;33m=\u001b[0m\u001b[1;34m\"c\"\u001b[0m\u001b[1;33m)\u001b[0m\u001b[1;33m:\u001b[0m\u001b[1;33m\u001b[0m\u001b[1;33m\u001b[0m\u001b[0m\n\u001b[0;32m   1177\u001b[0m         \u001b[1;32mif\u001b[0m \u001b[0mengine\u001b[0m \u001b[1;33m==\u001b[0m \u001b[1;34m\"c\"\u001b[0m\u001b[1;33m:\u001b[0m\u001b[1;33m\u001b[0m\u001b[1;33m\u001b[0m\u001b[0m\n\u001b[1;32m-> 1178\u001b[1;33m             \u001b[0mself\u001b[0m\u001b[1;33m.\u001b[0m\u001b[0m_engine\u001b[0m \u001b[1;33m=\u001b[0m \u001b[0mCParserWrapper\u001b[0m\u001b[1;33m(\u001b[0m\u001b[0mself\u001b[0m\u001b[1;33m.\u001b[0m\u001b[0mf\u001b[0m\u001b[1;33m,\u001b[0m \u001b[1;33m**\u001b[0m\u001b[0mself\u001b[0m\u001b[1;33m.\u001b[0m\u001b[0moptions\u001b[0m\u001b[1;33m)\u001b[0m\u001b[1;33m\u001b[0m\u001b[1;33m\u001b[0m\u001b[0m\n\u001b[0m\u001b[0;32m   1179\u001b[0m         \u001b[1;32melse\u001b[0m\u001b[1;33m:\u001b[0m\u001b[1;33m\u001b[0m\u001b[1;33m\u001b[0m\u001b[0m\n\u001b[0;32m   1180\u001b[0m             \u001b[1;32mif\u001b[0m \u001b[0mengine\u001b[0m \u001b[1;33m==\u001b[0m \u001b[1;34m\"python\"\u001b[0m\u001b[1;33m:\u001b[0m\u001b[1;33m\u001b[0m\u001b[1;33m\u001b[0m\u001b[0m\n",
      "\u001b[1;32m~\\anaconda3\\lib\\site-packages\\pandas\\io\\parsers.py\u001b[0m in \u001b[0;36m__init__\u001b[1;34m(self, src, **kwds)\u001b[0m\n\u001b[0;32m   2006\u001b[0m         \u001b[0mkwds\u001b[0m\u001b[1;33m[\u001b[0m\u001b[1;34m\"usecols\"\u001b[0m\u001b[1;33m]\u001b[0m \u001b[1;33m=\u001b[0m \u001b[0mself\u001b[0m\u001b[1;33m.\u001b[0m\u001b[0musecols\u001b[0m\u001b[1;33m\u001b[0m\u001b[1;33m\u001b[0m\u001b[0m\n\u001b[0;32m   2007\u001b[0m \u001b[1;33m\u001b[0m\u001b[0m\n\u001b[1;32m-> 2008\u001b[1;33m         \u001b[0mself\u001b[0m\u001b[1;33m.\u001b[0m\u001b[0m_reader\u001b[0m \u001b[1;33m=\u001b[0m \u001b[0mparsers\u001b[0m\u001b[1;33m.\u001b[0m\u001b[0mTextReader\u001b[0m\u001b[1;33m(\u001b[0m\u001b[0msrc\u001b[0m\u001b[1;33m,\u001b[0m \u001b[1;33m**\u001b[0m\u001b[0mkwds\u001b[0m\u001b[1;33m)\u001b[0m\u001b[1;33m\u001b[0m\u001b[1;33m\u001b[0m\u001b[0m\n\u001b[0m\u001b[0;32m   2009\u001b[0m         \u001b[0mself\u001b[0m\u001b[1;33m.\u001b[0m\u001b[0munnamed_cols\u001b[0m \u001b[1;33m=\u001b[0m \u001b[0mself\u001b[0m\u001b[1;33m.\u001b[0m\u001b[0m_reader\u001b[0m\u001b[1;33m.\u001b[0m\u001b[0munnamed_cols\u001b[0m\u001b[1;33m\u001b[0m\u001b[1;33m\u001b[0m\u001b[0m\n\u001b[0;32m   2010\u001b[0m \u001b[1;33m\u001b[0m\u001b[0m\n",
      "\u001b[1;32mpandas\\_libs\\parsers.pyx\u001b[0m in \u001b[0;36mpandas._libs.parsers.TextReader.__cinit__\u001b[1;34m()\u001b[0m\n",
      "\u001b[1;32mpandas\\_libs\\parsers.pyx\u001b[0m in \u001b[0;36mpandas._libs.parsers.TextReader._setup_parser_source\u001b[1;34m()\u001b[0m\n",
      "\u001b[1;31mFileNotFoundError\u001b[0m: [Errno 2] No such file or directory: '네이버 쇼핑/Apple(shopping).csv'"
     ]
    }
   ],
   "source": [
    "data = pd.read_csv('네이버 쇼핑/Apple(shopping).csv', index_col=0)\n",
    "data.head()"
   ]
  },
  {
   "cell_type": "markdown",
   "metadata": {
    "id": "tv9QigYjP9kQ"
   },
   "source": [
    "## 데이터 전처리"
   ]
  },
  {
   "cell_type": "code",
   "execution_count": 3,
   "metadata": {
    "executionInfo": {
     "elapsed": 285,
     "status": "ok",
     "timestamp": 1629021304241,
     "user": {
      "displayName": "서울시향 서포터즈7기 성호경",
      "photoUrl": "https://lh3.googleusercontent.com/a-/AOh14GhKqXPYW12ksT9T2iDN85rBmRNY-SA6FbBo_dvbJA=s64",
      "userId": "12445807510985383937"
     },
     "user_tz": -540
    },
    "id": "JRz3wgt6OUfT"
   },
   "outputs": [],
   "source": [
    "data = data.dropna()\n",
    "data = data.drop_duplicates()"
   ]
  },
  {
   "cell_type": "code",
   "execution_count": 4,
   "metadata": {
    "colab": {
     "base_uri": "https://localhost:8080/",
     "height": 288
    },
    "executionInfo": {
     "elapsed": 274,
     "status": "ok",
     "timestamp": 1629021306983,
     "user": {
      "displayName": "서울시향 서포터즈7기 성호경",
      "photoUrl": "https://lh3.googleusercontent.com/a-/AOh14GhKqXPYW12ksT9T2iDN85rBmRNY-SA6FbBo_dvbJA=s64",
      "userId": "12445807510985383937"
     },
     "user_tz": -540
    },
    "id": "XNGLCM7sObMK",
    "outputId": "81f85f63-d91d-421a-c2b6-e8208baa8fcf"
   },
   "outputs": [
    {
     "data": {
      "text/html": [
       "<div>\n",
       "<style scoped>\n",
       "    .dataframe tbody tr th:only-of-type {\n",
       "        vertical-align: middle;\n",
       "    }\n",
       "\n",
       "    .dataframe tbody tr th {\n",
       "        vertical-align: top;\n",
       "    }\n",
       "\n",
       "    .dataframe thead th {\n",
       "        text-align: right;\n",
       "    }\n",
       "</style>\n",
       "<table border=\"1\" class=\"dataframe\">\n",
       "  <thead>\n",
       "    <tr style=\"text-align: right;\">\n",
       "      <th></th>\n",
       "      <th>type</th>\n",
       "      <th>category</th>\n",
       "      <th>review</th>\n",
       "      <th>star</th>\n",
       "      <th>label</th>\n",
       "    </tr>\n",
       "  </thead>\n",
       "  <tbody>\n",
       "    <tr>\n",
       "      <th>0</th>\n",
       "      <td>아이패드</td>\n",
       "      <td>별점</td>\n",
       "      <td>고장나서 옴 수리하기도 돈아까윰</td>\n",
       "      <td>1</td>\n",
       "      <td>0</td>\n",
       "    </tr>\n",
       "    <tr>\n",
       "      <th>1</th>\n",
       "      <td>아이패드</td>\n",
       "      <td>별점</td>\n",
       "      <td>그냥 모든게 허접해요</td>\n",
       "      <td>1</td>\n",
       "      <td>0</td>\n",
       "    </tr>\n",
       "    <tr>\n",
       "      <th>3</th>\n",
       "      <td>아이패드</td>\n",
       "      <td>별점</td>\n",
       "      <td>대응이 정말 안좋아요</td>\n",
       "      <td>1</td>\n",
       "      <td>0</td>\n",
       "    </tr>\n",
       "    <tr>\n",
       "      <th>4</th>\n",
       "      <td>아이패드</td>\n",
       "      <td>별점</td>\n",
       "      <td>액정 불량화소 있어서 말하니 센터가서 처리하라고하네 편하게 받고 싶은데 다시 가서 ...</td>\n",
       "      <td>1</td>\n",
       "      <td>0</td>\n",
       "    </tr>\n",
       "    <tr>\n",
       "      <th>5</th>\n",
       "      <td>아이패드</td>\n",
       "      <td>별점</td>\n",
       "      <td>일주일이 넘도록 환불처리가 되지 않아 빠른 답변 부탁드립니다</td>\n",
       "      <td>1</td>\n",
       "      <td>0</td>\n",
       "    </tr>\n",
       "  </tbody>\n",
       "</table>\n",
       "</div>"
      ],
      "text/plain": [
       "   type category                                             review  star  \\\n",
       "0  아이패드       별점                                  고장나서 옴 수리하기도 돈아까윰     1   \n",
       "1  아이패드       별점                                        그냥 모든게 허접해요     1   \n",
       "3  아이패드       별점                                        대응이 정말 안좋아요     1   \n",
       "4  아이패드       별점  액정 불량화소 있어서 말하니 센터가서 처리하라고하네 편하게 받고 싶은데 다시 가서 ...     1   \n",
       "5  아이패드       별점                  일주일이 넘도록 환불처리가 되지 않아 빠른 답변 부탁드립니다     1   \n",
       "\n",
       "   label  \n",
       "0      0  \n",
       "1      0  \n",
       "3      0  \n",
       "4      0  \n",
       "5      0  "
      ]
     },
     "execution_count": 4,
     "metadata": {},
     "output_type": "execute_result"
    }
   ],
   "source": [
    "data[\"label\"] = np.select([data.star > 3], [1], default=0)\n",
    "data[:5]"
   ]
  },
  {
   "cell_type": "code",
   "execution_count": 5,
   "metadata": {
    "colab": {
     "base_uri": "https://localhost:8080/"
    },
    "executionInfo": {
     "elapsed": 309,
     "status": "ok",
     "timestamp": 1629021386825,
     "user": {
      "displayName": "서울시향 서포터즈7기 성호경",
      "photoUrl": "https://lh3.googleusercontent.com/a-/AOh14GhKqXPYW12ksT9T2iDN85rBmRNY-SA6FbBo_dvbJA=s64",
      "userId": "12445807510985383937"
     },
     "user_tz": -540
    },
    "id": "3gUEo4sHOpkE",
    "outputId": "6a6d336e-d485-4f94-a3e2-03f67fd03c5d"
   },
   "outputs": [
    {
     "data": {
      "text/plain": [
       "(5, 2342, 5)"
      ]
     },
     "execution_count": 5,
     "metadata": {},
     "output_type": "execute_result"
    }
   ],
   "source": [
    "data['star'].nunique(), data[\"review\"].nunique(), data[\"star\"].nunique() # (5, 2342, 5)"
   ]
  },
  {
   "cell_type": "code",
   "execution_count": 6,
   "metadata": {
    "colab": {
     "base_uri": "https://localhost:8080/"
    },
    "executionInfo": {
     "elapsed": 284,
     "status": "ok",
     "timestamp": 1629021427047,
     "user": {
      "displayName": "서울시향 서포터즈7기 성호경",
      "photoUrl": "https://lh3.googleusercontent.com/a-/AOh14GhKqXPYW12ksT9T2iDN85rBmRNY-SA6FbBo_dvbJA=s64",
      "userId": "12445807510985383937"
     },
     "user_tz": -540
    },
    "id": "O_d1x9W2PWRZ",
    "outputId": "7ccc4165-fdb2-4de8-bdab-857d4d25f1eb"
   },
   "outputs": [
    {
     "name": "stdout",
     "output_type": "stream",
     "text": [
      "type        0\n",
      "category    0\n",
      "review      0\n",
      "star        0\n",
      "label       0\n",
      "dtype: int64\n"
     ]
    }
   ],
   "source": [
    "print(data.isnull().sum())"
   ]
  },
  {
   "cell_type": "code",
   "execution_count": 7,
   "metadata": {
    "colab": {
     "base_uri": "https://localhost:8080/"
    },
    "executionInfo": {
     "elapsed": 307,
     "status": "ok",
     "timestamp": 1629021484313,
     "user": {
      "displayName": "서울시향 서포터즈7기 성호경",
      "photoUrl": "https://lh3.googleusercontent.com/a-/AOh14GhKqXPYW12ksT9T2iDN85rBmRNY-SA6FbBo_dvbJA=s64",
      "userId": "12445807510985383937"
     },
     "user_tz": -540
    },
    "id": "ybvW2KB0PkF-",
    "outputId": "e9b8f7f5-e1ab-4509-81fe-cf362fd772e3"
   },
   "outputs": [
    {
     "name": "stdout",
     "output_type": "stream",
     "text": [
      "훈련용 리뷰의 개수 : 1647\n",
      "테스트용 리뷰의 개수 : 706\n"
     ]
    }
   ],
   "source": [
    "train_data, test_data = train_test_split(data, test_size = 0.3, random_state = 42)\n",
    "print('훈련용 리뷰의 개수 :', len(train_data))\n",
    "print('테스트용 리뷰의 개수 :', len(test_data))"
   ]
  },
  {
   "cell_type": "markdown",
   "metadata": {
    "id": "uVaSuAY7P39q"
   },
   "source": [
    "## 레이블 분포 확인"
   ]
  },
  {
   "cell_type": "code",
   "execution_count": 8,
   "metadata": {
    "colab": {
     "base_uri": "https://localhost:8080/",
     "height": 281
    },
    "executionInfo": {
     "elapsed": 276,
     "status": "ok",
     "timestamp": 1629021564310,
     "user": {
      "displayName": "서울시향 서포터즈7기 성호경",
      "photoUrl": "https://lh3.googleusercontent.com/a-/AOh14GhKqXPYW12ksT9T2iDN85rBmRNY-SA6FbBo_dvbJA=s64",
      "userId": "12445807510985383937"
     },
     "user_tz": -540
    },
    "id": "_FMDTkDaP5PY",
    "outputId": "101bbcb6-032e-4a79-9962-aa6df7a60b0b"
   },
   "outputs": [
    {
     "data": {
      "text/plain": [
       "<AxesSubplot:>"
      ]
     },
     "execution_count": 8,
     "metadata": {},
     "output_type": "execute_result"
    },
    {
     "data": {
      "image/png": "[encoded data removed]",
      "text/plain": [
       "<Figure size 432x288 with 1 Axes>"
      ]
     },
     "metadata": {
      "needs_background": "light"
     },
     "output_type": "display_data"
    }
   ],
   "source": [
    "train_data[\"label\"].value_counts().plot(kind = 'bar')"
   ]
  },
  {
   "cell_type": "code",
   "execution_count": 9,
   "metadata": {
    "colab": {
     "base_uri": "https://localhost:8080/"
    },
    "executionInfo": {
     "elapsed": 425,
     "status": "ok",
     "timestamp": 1629021596051,
     "user": {
      "displayName": "서울시향 서포터즈7기 성호경",
      "photoUrl": "https://lh3.googleusercontent.com/a-/AOh14GhKqXPYW12ksT9T2iDN85rBmRNY-SA6FbBo_dvbJA=s64",
      "userId": "12445807510985383937"
     },
     "user_tz": -540
    },
    "id": "UZliek8UQE7r",
    "outputId": "c55b8a26-322b-46e5-9811-faba261c13ff"
   },
   "outputs": [
    {
     "name": "stdout",
     "output_type": "stream",
     "text": [
      "   label  count\n",
      "0      0    426\n",
      "1      1   1221\n"
     ]
    }
   ],
   "source": [
    "print(train_data.groupby('label').size().reset_index(name='count'))"
   ]
  },
  {
   "cell_type": "markdown",
   "metadata": {
    "id": "xS4ivPUVQQtL"
   },
   "source": [
    "## 토큰화"
   ]
  },
  {
   "cell_type": "code",
   "execution_count": 10,
   "metadata": {
    "colab": {
     "base_uri": "https://localhost:8080/"
    },
    "executionInfo": {
     "elapsed": 287,
     "status": "ok",
     "timestamp": 1629021642614,
     "user": {
      "displayName": "서울시향 서포터즈7기 성호경",
      "photoUrl": "https://lh3.googleusercontent.com/a-/AOh14GhKqXPYW12ksT9T2iDN85rBmRNY-SA6FbBo_dvbJA=s64",
      "userId": "12445807510985383937"
     },
     "user_tz": -540
    },
    "id": "ksj9K7XOQNSP",
    "outputId": "ca6086f7-011a-4566-92c7-c30246265710"
   },
   "outputs": [
    {
     "ename": "Exception",
     "evalue": "Install MeCab in order to use it: http://konlpy.org/en/latest/install/",
     "output_type": "error",
     "traceback": [
      "\u001b[1;31m---------------------------------------------------------------------------\u001b[0m",
      "\u001b[1;31mNameError\u001b[0m                                 Traceback (most recent call last)",
      "\u001b[1;32m~\\anaconda3\\lib\\site-packages\\konlpy\\tag\\_mecab.py\u001b[0m in \u001b[0;36m__init__\u001b[1;34m(self, dicpath)\u001b[0m\n\u001b[0;32m    107\u001b[0m         \u001b[1;32mtry\u001b[0m\u001b[1;33m:\u001b[0m\u001b[1;33m\u001b[0m\u001b[1;33m\u001b[0m\u001b[0m\n\u001b[1;32m--> 108\u001b[1;33m             \u001b[0mself\u001b[0m\u001b[1;33m.\u001b[0m\u001b[0mtagger\u001b[0m \u001b[1;33m=\u001b[0m \u001b[0mTagger\u001b[0m\u001b[1;33m(\u001b[0m\u001b[1;34m'-d %s'\u001b[0m \u001b[1;33m%\u001b[0m \u001b[0mdicpath\u001b[0m\u001b[1;33m)\u001b[0m\u001b[1;33m\u001b[0m\u001b[1;33m\u001b[0m\u001b[0m\n\u001b[0m\u001b[0;32m    109\u001b[0m             \u001b[0mself\u001b[0m\u001b[1;33m.\u001b[0m\u001b[0mtagset\u001b[0m \u001b[1;33m=\u001b[0m \u001b[0mutils\u001b[0m\u001b[1;33m.\u001b[0m\u001b[0mread_json\u001b[0m\u001b[1;33m(\u001b[0m\u001b[1;34m'%s/data/tagset/mecab.json'\u001b[0m \u001b[1;33m%\u001b[0m \u001b[0mutils\u001b[0m\u001b[1;33m.\u001b[0m\u001b[0minstallpath\u001b[0m\u001b[1;33m)\u001b[0m\u001b[1;33m\u001b[0m\u001b[1;33m\u001b[0m\u001b[0m\n",
      "\u001b[1;31mNameError\u001b[0m: name 'Tagger' is not defined",
      "\nDuring handling of the above exception, another exception occurred:\n",
      "\u001b[1;31mException\u001b[0m                                 Traceback (most recent call last)",
      "\u001b[1;32m<ipython-input-10-d58ec7ef7d97>\u001b[0m in \u001b[0;36m<module>\u001b[1;34m\u001b[0m\n\u001b[1;32m----> 1\u001b[1;33m \u001b[0mmecab\u001b[0m \u001b[1;33m=\u001b[0m \u001b[0mMecab\u001b[0m\u001b[1;33m(\u001b[0m\u001b[1;33m)\u001b[0m\u001b[1;33m\u001b[0m\u001b[1;33m\u001b[0m\u001b[0m\n\u001b[0m\u001b[0;32m      2\u001b[0m \u001b[0mprint\u001b[0m\u001b[1;33m(\u001b[0m\u001b[0mmecab\u001b[0m\u001b[1;33m.\u001b[0m\u001b[0mmorphs\u001b[0m\u001b[1;33m(\u001b[0m\u001b[1;34m'와 이런 것도 상품이라고 차라리 내가 만드는 게 나을 뻔'\u001b[0m\u001b[1;33m)\u001b[0m\u001b[1;33m)\u001b[0m\u001b[1;33m\u001b[0m\u001b[1;33m\u001b[0m\u001b[0m\n",
      "\u001b[1;32m~\\anaconda3\\lib\\site-packages\\konlpy\\tag\\_mecab.py\u001b[0m in \u001b[0;36m__init__\u001b[1;34m(self, dicpath)\u001b[0m\n\u001b[0;32m    111\u001b[0m             \u001b[1;32mraise\u001b[0m \u001b[0mException\u001b[0m\u001b[1;33m(\u001b[0m\u001b[1;34m'The MeCab dictionary does not exist at \"%s\". Is the dictionary correctly installed?\\nYou can also try entering the dictionary path when initializing the Mecab class: \"Mecab(\\'/some/dic/path\\')\"'\u001b[0m \u001b[1;33m%\u001b[0m \u001b[0mdicpath\u001b[0m\u001b[1;33m)\u001b[0m\u001b[1;33m\u001b[0m\u001b[1;33m\u001b[0m\u001b[0m\n\u001b[0;32m    112\u001b[0m         \u001b[1;32mexcept\u001b[0m \u001b[0mNameError\u001b[0m\u001b[1;33m:\u001b[0m\u001b[1;33m\u001b[0m\u001b[1;33m\u001b[0m\u001b[0m\n\u001b[1;32m--> 113\u001b[1;33m             \u001b[1;32mraise\u001b[0m \u001b[0mException\u001b[0m\u001b[1;33m(\u001b[0m\u001b[1;34m'Install MeCab in order to use it: http://konlpy.org/en/latest/install/'\u001b[0m\u001b[1;33m)\u001b[0m\u001b[1;33m\u001b[0m\u001b[1;33m\u001b[0m\u001b[0m\n\u001b[0m\u001b[0;32m    114\u001b[0m \u001b[1;33m\u001b[0m\u001b[0m\n\u001b[0;32m    115\u001b[0m     \u001b[1;32mdef\u001b[0m \u001b[0m__setstate__\u001b[0m\u001b[1;33m(\u001b[0m\u001b[0mself\u001b[0m\u001b[1;33m,\u001b[0m \u001b[0mstate\u001b[0m\u001b[1;33m)\u001b[0m\u001b[1;33m:\u001b[0m\u001b[1;33m\u001b[0m\u001b[1;33m\u001b[0m\u001b[0m\n",
      "\u001b[1;31mException\u001b[0m: Install MeCab in order to use it: http://konlpy.org/en/latest/install/"
     ]
    }
   ],
   "source": [
    "mecab = Mecab()\n",
    "print(mecab.morphs('와 이런 것도 상품이라고 차라리 내가 만드는 게 나을 뻔'))"
   ]
  },
  {
   "cell_type": "code",
   "execution_count": 42,
   "metadata": {
    "executionInfo": {
     "elapsed": 270,
     "status": "ok",
     "timestamp": 1629021706716,
     "user": {
      "displayName": "서울시향 서포터즈7기 성호경",
      "photoUrl": "https://lh3.googleusercontent.com/a-/AOh14GhKqXPYW12ksT9T2iDN85rBmRNY-SA6FbBo_dvbJA=s64",
      "userId": "12445807510985383937"
     },
     "user_tz": -540
    },
    "id": "2GN-yhutQZlx"
   },
   "outputs": [],
   "source": [
    "stopwords = ['의','가','이','은','들','는','좀','잘','걍','과',\n",
    "             '도','를','으로','자','에','와','한','하다', '게',\n",
    "             '고', '네', '는', '다', '들', '듯', '으로', '은',\n",
    "             '을', '인', '임', '자', '좀', '지', '요']"
   ]
  },
  {
   "cell_type": "code",
   "execution_count": 43,
   "metadata": {
    "colab": {
     "base_uri": "https://localhost:8080/"
    },
    "executionInfo": {
     "elapsed": 711,
     "status": "ok",
     "timestamp": 1629021768456,
     "user": {
      "displayName": "서울시향 서포터즈7기 성호경",
      "photoUrl": "https://lh3.googleusercontent.com/a-/AOh14GhKqXPYW12ksT9T2iDN85rBmRNY-SA6FbBo_dvbJA=s64",
      "userId": "12445807510985383937"
     },
     "user_tz": -540
    },
    "id": "Yal0EpVLQpdL",
    "outputId": "cc924dc7-d76b-4314-e292-e2e31b5a0878"
   },
   "outputs": [
    {
     "name": "stderr",
     "output_type": "stream",
     "text": [
      "/usr/local/lib/python3.7/dist-packages/ipykernel_launcher.py:1: SettingWithCopyWarning: \n",
      "A value is trying to be set on a copy of a slice from a DataFrame.\n",
      "Try using .loc[row_indexer,col_indexer] = value instead\n",
      "\n",
      "See the caveats in the documentation: https://pandas.pydata.org/pandas-docs/stable/user_guide/indexing.html#returning-a-view-versus-a-copy\n",
      "  \"\"\"Entry point for launching an IPython kernel.\n",
      "/usr/local/lib/python3.7/dist-packages/ipykernel_launcher.py:2: SettingWithCopyWarning: \n",
      "A value is trying to be set on a copy of a slice from a DataFrame.\n",
      "Try using .loc[row_indexer,col_indexer] = value instead\n",
      "\n",
      "See the caveats in the documentation: https://pandas.pydata.org/pandas-docs/stable/user_guide/indexing.html#returning-a-view-versus-a-copy\n",
      "  \n"
     ]
    }
   ],
   "source": [
    "train_data[\"tokenized\"] = train_data[\"review\"].apply(mecab.morphs)\n",
    "train_data[\"tokenized\"] = train_data[\"tokenized\"].apply(lambda x : [item for item in x if item not in stopwords])"
   ]
  },
  {
   "cell_type": "code",
   "execution_count": 44,
   "metadata": {
    "colab": {
     "base_uri": "https://localhost:8080/"
    },
    "executionInfo": {
     "elapsed": 267,
     "status": "ok",
     "timestamp": 1629021788356,
     "user": {
      "displayName": "서울시향 서포터즈7기 성호경",
      "photoUrl": "https://lh3.googleusercontent.com/a-/AOh14GhKqXPYW12ksT9T2iDN85rBmRNY-SA6FbBo_dvbJA=s64",
      "userId": "12445807510985383937"
     },
     "user_tz": -540
    },
    "id": "B1AsvqfqQ4an",
    "outputId": "2b2ebc7e-3c01-475b-bcde-6317c51c99e8"
   },
   "outputs": [
    {
     "name": "stderr",
     "output_type": "stream",
     "text": [
      "/usr/local/lib/python3.7/dist-packages/ipykernel_launcher.py:1: SettingWithCopyWarning: \n",
      "A value is trying to be set on a copy of a slice from a DataFrame.\n",
      "Try using .loc[row_indexer,col_indexer] = value instead\n",
      "\n",
      "See the caveats in the documentation: https://pandas.pydata.org/pandas-docs/stable/user_guide/indexing.html#returning-a-view-versus-a-copy\n",
      "  \"\"\"Entry point for launching an IPython kernel.\n",
      "/usr/local/lib/python3.7/dist-packages/ipykernel_launcher.py:2: SettingWithCopyWarning: \n",
      "A value is trying to be set on a copy of a slice from a DataFrame.\n",
      "Try using .loc[row_indexer,col_indexer] = value instead\n",
      "\n",
      "See the caveats in the documentation: https://pandas.pydata.org/pandas-docs/stable/user_guide/indexing.html#returning-a-view-versus-a-copy\n",
      "  \n"
     ]
    }
   ],
   "source": [
    "test_data[\"tokenized\"] = test_data[\"review\"].apply(mecab.morphs)\n",
    "test_data[\"tokenized\"] = test_data[\"tokenized\"].apply(lambda x : [item for item in x if item not in stopwords])"
   ]
  },
  {
   "cell_type": "code",
   "execution_count": 45,
   "metadata": {
    "executionInfo": {
     "elapsed": 282,
     "status": "ok",
     "timestamp": 1629021918276,
     "user": {
      "displayName": "서울시향 서포터즈7기 성호경",
      "photoUrl": "https://lh3.googleusercontent.com/a-/AOh14GhKqXPYW12ksT9T2iDN85rBmRNY-SA6FbBo_dvbJA=s64",
      "userId": "12445807510985383937"
     },
     "user_tz": -540
    },
    "id": "1YGTwG8uQ9Yc"
   },
   "outputs": [],
   "source": [
    "negative_words = np.hstack(train_data[train_data.label == 0]['tokenized'].values)\n",
    "positive_words = np.hstack(train_data[train_data.label == 1]['tokenized'].values)"
   ]
  },
  {
   "cell_type": "code",
   "execution_count": 46,
   "metadata": {
    "colab": {
     "base_uri": "https://localhost:8080/"
    },
    "executionInfo": {
     "elapsed": 278,
     "status": "ok",
     "timestamp": 1629021948246,
     "user": {
      "displayName": "서울시향 서포터즈7기 성호경",
      "photoUrl": "https://lh3.googleusercontent.com/a-/AOh14GhKqXPYW12ksT9T2iDN85rBmRNY-SA6FbBo_dvbJA=s64",
      "userId": "12445807510985383937"
     },
     "user_tz": -540
    },
    "id": "CcyfNGTvRdGZ",
    "outputId": "9330d3c6-0ca5-435f-9b5d-e223ae12d98a"
   },
   "outputs": [
    {
     "name": "stdout",
     "output_type": "stream",
     "text": [
      "[('하', 312), ('네요', 202), ('있', 158), ('는데', 156), ('안', 148), ('받', 125), ('했', 123), ('월', 119), ('습니다', 110), ('되', 105), ('좋', 102), ('제품', 100), ('어요', 82), ('거', 81), ('어', 78), ('없', 76), ('만', 74), ('주', 69), ('았', 69), ('에서', 69)]\n"
     ]
    }
   ],
   "source": [
    "negative_word_count = Counter(negative_words)\n",
    "print(negative_word_count.most_common(20))"
   ]
  },
  {
   "cell_type": "code",
   "execution_count": 47,
   "metadata": {
    "colab": {
     "base_uri": "https://localhost:8080/"
    },
    "executionInfo": {
     "elapsed": 259,
     "status": "ok",
     "timestamp": 1629021990883,
     "user": {
      "displayName": "서울시향 서포터즈7기 성호경",
      "photoUrl": "https://lh3.googleusercontent.com/a-/AOh14GhKqXPYW12ksT9T2iDN85rBmRNY-SA6FbBo_dvbJA=s64",
      "userId": "12445807510985383937"
     },
     "user_tz": -540
    },
    "id": "HxE-v6kSRka9",
    "outputId": "07cc36fd-e086-4685-f7a5-16da8cddca2a"
   },
   "outputs": [
    {
     "name": "stdout",
     "output_type": "stream",
     "text": [
      "[('하', 1312), ('좋', 765), ('있', 531), ('습니다', 528), ('네요', 520), ('는데', 511), ('했', 450), ('어요', 436), ('너무', 323), ('아요', 313), ('받', 312), ('로', 300), ('되', 297), ('사용', 296), ('았', 293), ('구매', 290), ('합니다', 262), ('같', 251), ('쓰', 249), ('어', 245)]\n"
     ]
    }
   ],
   "source": [
    "positive_word_count = Counter(positive_words)\n",
    "print(positive_word_count.most_common(20))"
   ]
  },
  {
   "cell_type": "code",
   "execution_count": 49,
   "metadata": {
    "colab": {
     "base_uri": "https://localhost:8080/"
    },
    "executionInfo": {
     "elapsed": 376,
     "status": "ok",
     "timestamp": 1629022090486,
     "user": {
      "displayName": "서울시향 서포터즈7기 성호경",
      "photoUrl": "https://lh3.googleusercontent.com/a-/AOh14GhKqXPYW12ksT9T2iDN85rBmRNY-SA6FbBo_dvbJA=s64",
      "userId": "12445807510985383937"
     },
     "user_tz": -540
    },
    "id": "Np9V5O1xRu1O",
    "outputId": "344f36b9-4a8a-4ca6-f1b8-1b3a4bfb5e5f"
   },
   "outputs": [
    {
     "data": {
      "text/plain": [
       "31.245700245700245"
      ]
     },
     "execution_count": 49,
     "metadata": {
      "tags": []
     },
     "output_type": "execute_result"
    }
   ],
   "source": [
    "positive_len = train_data[train_data['label']==1][\"tokenized\"].map(lambda x : len(x))\n",
    "np.mean(positive_len)"
   ]
  },
  {
   "cell_type": "code",
   "execution_count": 50,
   "metadata": {
    "colab": {
     "base_uri": "https://localhost:8080/"
    },
    "executionInfo": {
     "elapsed": 286,
     "status": "ok",
     "timestamp": 1629022103689,
     "user": {
      "displayName": "서울시향 서포터즈7기 성호경",
      "photoUrl": "https://lh3.googleusercontent.com/a-/AOh14GhKqXPYW12ksT9T2iDN85rBmRNY-SA6FbBo_dvbJA=s64",
      "userId": "12445807510985383937"
     },
     "user_tz": -540
    },
    "id": "mnIjSJCgSDy6",
    "outputId": "c41d33f5-3d66-4b11-d03a-ee40db879040"
   },
   "outputs": [
    {
     "data": {
      "text/plain": [
       "25.330985915492956"
      ]
     },
     "execution_count": 50,
     "metadata": {
      "tags": []
     },
     "output_type": "execute_result"
    }
   ],
   "source": [
    "negative_len = train_data[train_data['label']==0][\"tokenized\"].map(lambda x : len(x))\n",
    "np.mean(negative_len)"
   ]
  },
  {
   "cell_type": "code",
   "execution_count": 62,
   "metadata": {
    "executionInfo": {
     "elapsed": 400,
     "status": "ok",
     "timestamp": 1629022492507,
     "user": {
      "displayName": "서울시향 서포터즈7기 성호경",
      "photoUrl": "https://lh3.googleusercontent.com/a-/AOh14GhKqXPYW12ksT9T2iDN85rBmRNY-SA6FbBo_dvbJA=s64",
      "userId": "12445807510985383937"
     },
     "user_tz": -540
    },
    "id": "zhwu9PijSKWf"
   },
   "outputs": [],
   "source": [
    "X_train = train_data[\"tokenized\"].values\n",
    "y_train = train_data[\"label\"].values\n",
    "X_test = test_data[\"tokenized\"].values\n",
    "y_test = test_data[\"label\"].values"
   ]
  },
  {
   "cell_type": "markdown",
   "metadata": {
    "id": "85Lci1J6SXSB"
   },
   "source": [
    "## 정수 인코딩"
   ]
  },
  {
   "cell_type": "code",
   "execution_count": 63,
   "metadata": {
    "executionInfo": {
     "elapsed": 3,
     "status": "ok",
     "timestamp": 1629022493415,
     "user": {
      "displayName": "서울시향 서포터즈7기 성호경",
      "photoUrl": "https://lh3.googleusercontent.com/a-/AOh14GhKqXPYW12ksT9T2iDN85rBmRNY-SA6FbBo_dvbJA=s64",
      "userId": "12445807510985383937"
     },
     "user_tz": -540
    },
    "id": "zhHQG8hCSVoq"
   },
   "outputs": [],
   "source": [
    "tokenizer = Tokenizer()\n",
    "tokenizer.fit_on_texts(X_train)"
   ]
  },
  {
   "cell_type": "code",
   "execution_count": 64,
   "metadata": {
    "colab": {
     "base_uri": "https://localhost:8080/"
    },
    "executionInfo": {
     "elapsed": 334,
     "status": "ok",
     "timestamp": 1629022494915,
     "user": {
      "displayName": "서울시향 서포터즈7기 성호경",
      "photoUrl": "https://lh3.googleusercontent.com/a-/AOh14GhKqXPYW12ksT9T2iDN85rBmRNY-SA6FbBo_dvbJA=s64",
      "userId": "12445807510985383937"
     },
     "user_tz": -540
    },
    "id": "NchkL7fpSWxY",
    "outputId": "6451986c-a702-4cc1-8fcd-6045c07c2c28"
   },
   "outputs": [
    {
     "name": "stdout",
     "output_type": "stream",
     "text": [
      "단어 집합(vocabulary)의 크기 : 4828\n",
      "등장 빈도가 1번 이하인 희귀 단어의 수: 2320\n",
      "단어 집합에서 희귀 단어의 비율: 48.05302402651201\n",
      "전체 등장 빈도에서 희귀 단어 등장 빈도 비율: 4.740304850639532\n"
     ]
    }
   ],
   "source": [
    "threshold = 2\n",
    "total_cnt = len(tokenizer.word_index)\n",
    "rare_cnt = 0\n",
    "total_freq = 0\n",
    "rare_freq = 0\n",
    "\n",
    "# 단어와 빈도수의 쌍을 key와 value로\n",
    "for key, value in tokenizer.word_counts.items():\n",
    "    total_freq = total_freq + value\n",
    "\n",
    "    if value < threshold:\n",
    "        rare_cnt = rare_cnt + 1\n",
    "        rare_freq = rare_freq + value\n",
    "\n",
    "print('단어 집합(vocabulary)의 크기 :',total_cnt)\n",
    "print('등장 빈도가 %s번 이하인 희귀 단어의 수: %s'%(threshold - 1, rare_cnt))\n",
    "print(\"단어 집합에서 희귀 단어의 비율:\", (rare_cnt / total_cnt)*100)\n",
    "print(\"전체 등장 빈도에서 희귀 단어 등장 빈도 비율:\", (rare_freq / total_freq)*100)"
   ]
  },
  {
   "cell_type": "code",
   "execution_count": 65,
   "metadata": {
    "colab": {
     "base_uri": "https://localhost:8080/"
    },
    "executionInfo": {
     "elapsed": 10,
     "status": "ok",
     "timestamp": 1629022495264,
     "user": {
      "displayName": "서울시향 서포터즈7기 성호경",
      "photoUrl": "https://lh3.googleusercontent.com/a-/AOh14GhKqXPYW12ksT9T2iDN85rBmRNY-SA6FbBo_dvbJA=s64",
      "userId": "12445807510985383937"
     },
     "user_tz": -540
    },
    "id": "8M6yOJcqS4Un",
    "outputId": "77e74cfe-64d7-4944-b6e0-35e203bc9ff2"
   },
   "outputs": [
    {
     "name": "stdout",
     "output_type": "stream",
     "text": [
      "단어 집합의 크기 : 2510\n"
     ]
    }
   ],
   "source": [
    "vocab_size = total_cnt - rare_cnt + 2\n",
    "print('단어 집합의 크기 :', vocab_size)"
   ]
  },
  {
   "cell_type": "code",
   "execution_count": 66,
   "metadata": {
    "executionInfo": {
     "elapsed": 4,
     "status": "ok",
     "timestamp": 1629022495570,
     "user": {
      "displayName": "서울시향 서포터즈7기 성호경",
      "photoUrl": "https://lh3.googleusercontent.com/a-/AOh14GhKqXPYW12ksT9T2iDN85rBmRNY-SA6FbBo_dvbJA=s64",
      "userId": "12445807510985383937"
     },
     "user_tz": -540
    },
    "id": "sPjUCYg9TE09"
   },
   "outputs": [],
   "source": [
    "tokenizer = Tokenizer(vocab_size, oov_token = 'OOV') \n",
    "tokenizer.fit_on_texts(X_train)\n",
    "X_train = tokenizer.texts_to_sequences(X_train)\n",
    "X_test = tokenizer.texts_to_sequences(X_test)"
   ]
  },
  {
   "cell_type": "code",
   "execution_count": 67,
   "metadata": {
    "colab": {
     "base_uri": "https://localhost:8080/"
    },
    "executionInfo": {
     "elapsed": 292,
     "status": "ok",
     "timestamp": 1629022499699,
     "user": {
      "displayName": "서울시향 서포터즈7기 성호경",
      "photoUrl": "https://lh3.googleusercontent.com/a-/AOh14GhKqXPYW12ksT9T2iDN85rBmRNY-SA6FbBo_dvbJA=s64",
      "userId": "12445807510985383937"
     },
     "user_tz": -540
    },
    "id": "ZmyGIv1QTIoq",
    "outputId": "d8921302-7298-4f2e-97fa-3c7b0abb59de"
   },
   "outputs": [
    {
     "name": "stdout",
     "output_type": "stream",
     "text": [
      "[[224, 518, 625, 670, 73, 55, 1495, 4], [74, 1, 231, 49, 85, 2, 1845, 5, 7, 1254, 1255, 44, 21, 421, 15, 2, 87], [82, 671, 82, 4, 199, 53, 42, 50, 422, 85, 102, 8, 6, 291, 43, 1, 59, 184, 27, 1084, 103, 49, 1, 7, 148, 30, 46, 75, 54, 80, 672, 4, 185, 271, 75, 54, 80, 2, 165, 123, 47, 9, 72, 673, 1496, 180, 76, 325, 17, 1, 1497, 213, 1846, 1, 26, 1498, 1499, 1847, 1500, 672, 4, 124, 1, 88, 547, 311, 674, 243, 1, 865, 52, 5, 149, 244, 201, 82, 672, 61, 235, 53, 42, 64, 201, 3, 26, 22, 4, 124, 360, 1501, 245, 73, 3, 7, 793, 1502, 72, 1, 19, 1, 236, 4, 277, 61, 1503, 33, 4]]\n"
     ]
    }
   ],
   "source": [
    "print(X_train[:3])"
   ]
  },
  {
   "cell_type": "code",
   "execution_count": 68,
   "metadata": {
    "colab": {
     "base_uri": "https://localhost:8080/"
    },
    "executionInfo": {
     "elapsed": 7,
     "status": "ok",
     "timestamp": 1629022500835,
     "user": {
      "displayName": "서울시향 서포터즈7기 성호경",
      "photoUrl": "https://lh3.googleusercontent.com/a-/AOh14GhKqXPYW12ksT9T2iDN85rBmRNY-SA6FbBo_dvbJA=s64",
      "userId": "12445807510985383937"
     },
     "user_tz": -540
    },
    "id": "u9r2g_Y2TR-o",
    "outputId": "8abeaf7a-641c-41b9-a64c-25c44babb343"
   },
   "outputs": [
    {
     "name": "stdout",
     "output_type": "stream",
     "text": [
      "[[190, 363, 461, 162, 408, 44, 21, 1, 694, 98, 1, 79, 1986, 710, 8, 186, 2, 1, 61], [209, 32, 44, 21], [194, 331, 86, 66, 8, 6, 330, 331, 74, 280]]\n"
     ]
    }
   ],
   "source": [
    "print(X_test[:3])"
   ]
  },
  {
   "cell_type": "markdown",
   "metadata": {
    "id": "15G9GkwwTtPb"
   },
   "source": [
    "## 패딩"
   ]
  },
  {
   "cell_type": "code",
   "execution_count": 70,
   "metadata": {
    "colab": {
     "base_uri": "https://localhost:8080/",
     "height": 317
    },
    "executionInfo": {
     "elapsed": 433,
     "status": "ok",
     "timestamp": 1629022690292,
     "user": {
      "displayName": "서울시향 서포터즈7기 성호경",
      "photoUrl": "https://lh3.googleusercontent.com/a-/AOh14GhKqXPYW12ksT9T2iDN85rBmRNY-SA6FbBo_dvbJA=s64",
      "userId": "12445807510985383937"
     },
     "user_tz": -540
    },
    "id": "v42VrhUSTVkZ",
    "outputId": "047c12b4-f749-4989-c208-8bb3dbe41b3c"
   },
   "outputs": [
    {
     "name": "stdout",
     "output_type": "stream",
     "text": [
      "리뷰의 최대 길이 : 518\n",
      "리뷰의 평균 길이 : 29.715846994535518\n"
     ]
    },
    {
     "data": {
      "image/png": "[encoded data removed]",
      "text/plain": [
       "<Figure size 432x288 with 1 Axes>"
      ]
     },
     "metadata": {
      "needs_background": "light",
      "tags": []
     },
     "output_type": "display_data"
    }
   ],
   "source": [
    "print('리뷰의 최대 길이 :', max(len(l) for l in X_train))\n",
    "print('리뷰의 평균 길이 :', sum(map(len, X_train)) / len(X_train))\n",
    "plt.hist([len(s) for s in X_train], bins = 10)\n",
    "plt.xlabel('length of samples')\n",
    "plt.ylabel('number of samples')\n",
    "plt.show()"
   ]
  },
  {
   "cell_type": "code",
   "execution_count": 77,
   "metadata": {
    "executionInfo": {
     "elapsed": 304,
     "status": "ok",
     "timestamp": 1629022916061,
     "user": {
      "displayName": "서울시향 서포터즈7기 성호경",
      "photoUrl": "https://lh3.googleusercontent.com/a-/AOh14GhKqXPYW12ksT9T2iDN85rBmRNY-SA6FbBo_dvbJA=s64",
      "userId": "12445807510985383937"
     },
     "user_tz": -540
    },
    "id": "ctay98EwUAyu"
   },
   "outputs": [],
   "source": [
    "def below_threshold_len(max_len, nested_list):\n",
    "    cnt = 0\n",
    "    for s in nested_list:\n",
    "        if (len(s) <= max_len):\n",
    "            cnt = cnt+1\n",
    "    print('전체 샘플 중 길이가 %s 이하인 샘플의 비율 : %s' %(max_len, (cnt / len(nested_list))* 100))"
   ]
  },
  {
   "cell_type": "code",
   "execution_count": 82,
   "metadata": {
    "colab": {
     "base_uri": "https://localhost:8080/"
    },
    "executionInfo": {
     "elapsed": 295,
     "status": "ok",
     "timestamp": 1629022934871,
     "user": {
      "displayName": "서울시향 서포터즈7기 성호경",
      "photoUrl": "https://lh3.googleusercontent.com/a-/AOh14GhKqXPYW12ksT9T2iDN85rBmRNY-SA6FbBo_dvbJA=s64",
      "userId": "12445807510985383937"
     },
     "user_tz": -540
    },
    "id": "Hff_nzSwU6k-",
    "outputId": "f0c4a2c4-3a98-47f3-f8cc-b1aab29076ac"
   },
   "outputs": [
    {
     "name": "stdout",
     "output_type": "stream",
     "text": [
      "전체 샘플 중 길이가 200 이하인 샘플의 비율 : 99.27140255009107\n"
     ]
    }
   ],
   "source": [
    "max_len = 200\n",
    "below_threshold_len(max_len, X_train)"
   ]
  },
  {
   "cell_type": "code",
   "execution_count": 83,
   "metadata": {
    "executionInfo": {
     "elapsed": 255,
     "status": "ok",
     "timestamp": 1629022947019,
     "user": {
      "displayName": "서울시향 서포터즈7기 성호경",
      "photoUrl": "https://lh3.googleusercontent.com/a-/AOh14GhKqXPYW12ksT9T2iDN85rBmRNY-SA6FbBo_dvbJA=s64",
      "userId": "12445807510985383937"
     },
     "user_tz": -540
    },
    "id": "aN0YsndGU_LQ"
   },
   "outputs": [],
   "source": [
    "X_train = pad_sequences(X_train, maxlen = max_len)\n",
    "X_test = pad_sequences(X_test, maxlen = max_len)"
   ]
  },
  {
   "cell_type": "markdown",
   "metadata": {
    "id": "YZ6wo-9KVdbw"
   },
   "source": [
    "## GRU로 네이버 쇼핑 리뷰 감성 분류하기"
   ]
  },
  {
   "cell_type": "code",
   "execution_count": 84,
   "metadata": {
    "executionInfo": {
     "elapsed": 266,
     "status": "ok",
     "timestamp": 1629022957532,
     "user": {
      "displayName": "서울시향 서포터즈7기 성호경",
      "photoUrl": "https://lh3.googleusercontent.com/a-/AOh14GhKqXPYW12ksT9T2iDN85rBmRNY-SA6FbBo_dvbJA=s64",
      "userId": "12445807510985383937"
     },
     "user_tz": -540
    },
    "id": "CryImM-YVYQ1"
   },
   "outputs": [],
   "source": [
    "from tensorflow.keras.layers import Embedding, Dense, GRU\n",
    "from tensorflow.keras.models import Sequential\n",
    "from tensorflow.keras.models import load_model\n",
    "from tensorflow.keras.callbacks import EarlyStopping, ModelCheckpoint"
   ]
  },
  {
   "cell_type": "code",
   "execution_count": 85,
   "metadata": {
    "executionInfo": {
     "elapsed": 780,
     "status": "ok",
     "timestamp": 1629023046641,
     "user": {
      "displayName": "서울시향 서포터즈7기 성호경",
      "photoUrl": "https://lh3.googleusercontent.com/a-/AOh14GhKqXPYW12ksT9T2iDN85rBmRNY-SA6FbBo_dvbJA=s64",
      "userId": "12445807510985383937"
     },
     "user_tz": -540
    },
    "id": "7rrgOICvVa1V"
   },
   "outputs": [],
   "source": [
    "model = Sequential()\n",
    "model.add(Embedding(vocab_size, 100))\n",
    "model.add(GRU(128))\n",
    "model.add(Dense(1, activation = 'sigmoid'))"
   ]
  },
  {
   "cell_type": "code",
   "execution_count": 86,
   "metadata": {
    "executionInfo": {
     "elapsed": 283,
     "status": "ok",
     "timestamp": 1629023106676,
     "user": {
      "displayName": "서울시향 서포터즈7기 성호경",
      "photoUrl": "https://lh3.googleusercontent.com/a-/AOh14GhKqXPYW12ksT9T2iDN85rBmRNY-SA6FbBo_dvbJA=s64",
      "userId": "12445807510985383937"
     },
     "user_tz": -540
    },
    "id": "v-Vf9sdoVwdV"
   },
   "outputs": [],
   "source": [
    "es = EarlyStopping(monitor='val_loss', mode='min', verbose=1, patience=4)\n",
    "mc = ModelCheckpoint('best_model.h5', monitor='val_acc', mode='max', verbose=1, save_best_only=True)"
   ]
  },
  {
   "cell_type": "code",
   "execution_count": 87,
   "metadata": {
    "colab": {
     "base_uri": "https://localhost:8080/"
    },
    "executionInfo": {
     "elapsed": 50315,
     "status": "ok",
     "timestamp": 1629023230975,
     "user": {
      "displayName": "서울시향 서포터즈7기 성호경",
      "photoUrl": "https://lh3.googleusercontent.com/a-/AOh14GhKqXPYW12ksT9T2iDN85rBmRNY-SA6FbBo_dvbJA=s64",
      "userId": "12445807510985383937"
     },
     "user_tz": -540
    },
    "id": "c7gXUk9LV_PT",
    "outputId": "f5676821-d220-4f54-9ba6-45eba565e541"
   },
   "outputs": [
    {
     "name": "stdout",
     "output_type": "stream",
     "text": [
      "Epoch 1/15\n",
      "22/22 [==============================] - 10s 325ms/step - loss: 0.5710 - acc: 0.7320 - val_loss: 0.5092 - val_acc: 0.7576\n",
      "\n",
      "Epoch 00001: val_acc improved from -inf to 0.75758, saving model to best_model.h5\n",
      "Epoch 2/15\n",
      "22/22 [==============================] - 7s 304ms/step - loss: 0.4560 - acc: 0.7935 - val_loss: 0.4403 - val_acc: 0.7909\n",
      "\n",
      "Epoch 00002: val_acc improved from 0.75758 to 0.79091, saving model to best_model.h5\n",
      "Epoch 3/15\n",
      "22/22 [==============================] - 7s 301ms/step - loss: 0.3264 - acc: 0.8709 - val_loss: 0.4187 - val_acc: 0.8091\n",
      "\n",
      "Epoch 00003: val_acc improved from 0.79091 to 0.80909, saving model to best_model.h5\n",
      "Epoch 4/15\n",
      "22/22 [==============================] - 7s 303ms/step - loss: 0.2902 - acc: 0.9058 - val_loss: 0.4217 - val_acc: 0.8121\n",
      "\n",
      "Epoch 00004: val_acc improved from 0.80909 to 0.81212, saving model to best_model.h5\n",
      "Epoch 5/15\n",
      "22/22 [==============================] - 7s 306ms/step - loss: 0.2175 - acc: 0.9241 - val_loss: 0.4917 - val_acc: 0.8606\n",
      "\n",
      "Epoch 00005: val_acc improved from 0.81212 to 0.86061, saving model to best_model.h5\n",
      "Epoch 6/15\n",
      "22/22 [==============================] - 7s 302ms/step - loss: 0.1852 - acc: 0.9286 - val_loss: 0.4953 - val_acc: 0.8273\n",
      "\n",
      "Epoch 00006: val_acc did not improve from 0.86061\n",
      "Epoch 7/15\n",
      "22/22 [==============================] - 7s 307ms/step - loss: 0.1531 - acc: 0.9446 - val_loss: 0.5572 - val_acc: 0.7818\n",
      "\n",
      "Epoch 00007: val_acc did not improve from 0.86061\n",
      "Epoch 00007: early stopping\n"
     ]
    }
   ],
   "source": [
    "model.compile(optimizer='rmsprop', loss='binary_crossentropy', metrics=['acc'])\n",
    "history = model.fit(X_train, y_train, epochs = 15, callbacks=[es, mc], batch_size=60, validation_split=0.2)"
   ]
  },
  {
   "cell_type": "code",
   "execution_count": 88,
   "metadata": {
    "colab": {
     "base_uri": "https://localhost:8080/"
    },
    "executionInfo": {
     "elapsed": 1881,
     "status": "ok",
     "timestamp": 1629023313515,
     "user": {
      "displayName": "서울시향 서포터즈7기 성호경",
      "photoUrl": "https://lh3.googleusercontent.com/a-/AOh14GhKqXPYW12ksT9T2iDN85rBmRNY-SA6FbBo_dvbJA=s64",
      "userId": "12445807510985383937"
     },
     "user_tz": -540
    },
    "id": "7vD41jPPWRXz",
    "outputId": "4fa95434-adac-45a5-fb49-4d53789c950c"
   },
   "outputs": [
    {
     "name": "stdout",
     "output_type": "stream",
     "text": [
      "23/23 [==============================] - 1s 44ms/step - loss: 0.5444 - acc: 0.8258\n",
      "\n",
      " 테스트 정확도: 0.8258\n"
     ]
    }
   ],
   "source": [
    "load_model = load_model('best_model.h5')\n",
    "print(\"\\n 테스트 정확도: %.4f\" % (load_model.evaluate(X_test, y_test)[1]))"
   ]
  },
  {
   "cell_type": "markdown",
   "metadata": {
    "id": "hpgXmZq9W1fL"
   },
   "source": [
    "## 리뷰 예측해보기"
   ]
  },
  {
   "cell_type": "code",
   "execution_count": 103,
   "metadata": {
    "executionInfo": {
     "elapsed": 282,
     "status": "ok",
     "timestamp": 1629023608806,
     "user": {
      "displayName": "서울시향 서포터즈7기 성호경",
      "photoUrl": "https://lh3.googleusercontent.com/a-/AOh14GhKqXPYW12ksT9T2iDN85rBmRNY-SA6FbBo_dvbJA=s64",
      "userId": "12445807510985383937"
     },
     "user_tz": -540
    },
    "id": "nZl6pYqYWxWD"
   },
   "outputs": [],
   "source": [
    "def sentiment_predict(new_sentence):\n",
    "    new_sentence = mecab.morphs(new_sentence) # 토큰화\n",
    "    new_sentence = [word for word in new_sentence if not word in stopwords] # 불용어 제거\n",
    "    encoded = tokenizer.texts_to_sequences([new_sentence]) # 정수 인코딩\n",
    "    pad_new = pad_sequences(encoded, maxlen = max_len) # 패딩\n",
    "    score = float(load_model.predict(pad_new)) # 예측\n",
    "    \n",
    "    if (score > 0.5):\n",
    "        print(\"{:.2f}% 확률로 긍정 리뷰입니다.\".format(score * 100))\n",
    "    else:\n",
    "        print(\"{:.2f}% 확률로 부정 리뷰입니다.\".format((1 - score) * 100))"
   ]
  },
  {
   "cell_type": "code",
   "execution_count": 104,
   "metadata": {
    "colab": {
     "base_uri": "https://localhost:8080/"
    },
    "executionInfo": {
     "elapsed": 315,
     "status": "ok",
     "timestamp": 1629023610253,
     "user": {
      "displayName": "서울시향 서포터즈7기 성호경",
      "photoUrl": "https://lh3.googleusercontent.com/a-/AOh14GhKqXPYW12ksT9T2iDN85rBmRNY-SA6FbBo_dvbJA=s64",
      "userId": "12445807510985383937"
     },
     "user_tz": -540
    },
    "id": "7mlaKIoJXaBb",
    "outputId": "af6c94e8-ae51-4e1a-bcd0-cf5c13ade38b"
   },
   "outputs": [
    {
     "name": "stdout",
     "output_type": "stream",
     "text": [
      "94.48% 확률로 긍정 리뷰입니다.\n"
     ]
    }
   ],
   "source": [
    "sentiment_predict(\"이 상품 진짜 좋아요... 저는 강추합니다. 대박\")"
   ]
  },
  {
   "cell_type": "code",
   "execution_count": 105,
   "metadata": {
    "colab": {
     "base_uri": "https://localhost:8080/"
    },
    "executionInfo": {
     "elapsed": 249,
     "status": "ok",
     "timestamp": 1629023616965,
     "user": {
      "displayName": "서울시향 서포터즈7기 성호경",
      "photoUrl": "https://lh3.googleusercontent.com/a-/AOh14GhKqXPYW12ksT9T2iDN85rBmRNY-SA6FbBo_dvbJA=s64",
      "userId": "12445807510985383937"
     },
     "user_tz": -540
    },
    "id": "s19-cngvXeY7",
    "outputId": "c18bdde2-146d-49a6-b0d1-ed705c61a672"
   },
   "outputs": [
    {
     "name": "stdout",
     "output_type": "stream",
     "text": [
      "76.77% 확률로 부정 리뷰입니다.\n"
     ]
    }
   ],
   "source": [
    "sentiment_predict('진짜 배송도 늦고 개짜증나네요. 뭐 이런 걸 상품이라고 만듬?')"
   ]
  },
  {
   "cell_type": "code",
   "execution_count": 106,
   "metadata": {
    "colab": {
     "base_uri": "https://localhost:8080/"
    },
    "executionInfo": {
     "elapsed": 263,
     "status": "ok",
     "timestamp": 1629023625647,
     "user": {
      "displayName": "서울시향 서포터즈7기 성호경",
      "photoUrl": "https://lh3.googleusercontent.com/a-/AOh14GhKqXPYW12ksT9T2iDN85rBmRNY-SA6FbBo_dvbJA=s64",
      "userId": "12445807510985383937"
     },
     "user_tz": -540
    },
    "id": "4u0f_r5JX702",
    "outputId": "c7521c89-914f-499d-d34e-4cd5239d4979"
   },
   "outputs": [
    {
     "name": "stdout",
     "output_type": "stream",
     "text": [
      "96.49% 확률로 긍정 리뷰입니다.\n"
     ]
    }
   ],
   "source": [
    "sentiment_predict('판매자님... 너무 짱이에요.. 대박나삼')"
   ]
  },
  {
   "cell_type": "code",
   "execution_count": 107,
   "metadata": {
    "colab": {
     "base_uri": "https://localhost:8080/"
    },
    "executionInfo": {
     "elapsed": 321,
     "status": "ok",
     "timestamp": 1629023630924,
     "user": {
      "displayName": "서울시향 서포터즈7기 성호경",
      "photoUrl": "https://lh3.googleusercontent.com/a-/AOh14GhKqXPYW12ksT9T2iDN85rBmRNY-SA6FbBo_dvbJA=s64",
      "userId": "12445807510985383937"
     },
     "user_tz": -540
    },
    "id": "kqngizA0X98a",
    "outputId": "eaa4bca6-3570-433d-cc69-1d00d81544c2"
   },
   "outputs": [
    {
     "name": "stdout",
     "output_type": "stream",
     "text": [
      "91.36% 확률로 긍정 리뷰입니다.\n"
     ]
    }
   ],
   "source": [
    "sentiment_predict('ㅁㄴㅇㄻㄴㅇㄻㄴㅇ리뷰쓰기도 귀찮아')"
   ]
  },
  {
   "cell_type": "code",
   "execution_count": 109,
   "metadata": {
    "colab": {
     "base_uri": "https://localhost:8080/"
    },
    "executionInfo": {
     "elapsed": 389,
     "status": "ok",
     "timestamp": 1629026447618,
     "user": {
      "displayName": "서울시향 서포터즈7기 성호경",
      "photoUrl": "https://lh3.googleusercontent.com/a-/AOh14GhKqXPYW12ksT9T2iDN85rBmRNY-SA6FbBo_dvbJA=s64",
      "userId": "12445807510985383937"
     },
     "user_tz": -540
    },
    "id": "8jedsoNTYlVp",
    "outputId": "a1a303fd-6e1b-4446-904a-6848386b18a0"
   },
   "outputs": [
    {
     "name": "stdout",
     "output_type": "stream",
     "text": [
      "90.29% 확률로 부정 리뷰입니다.\n"
     ]
    }
   ],
   "source": [
    "sentiment_predict('아이패드 화면 불량인가요,안녕하세요이번에 아이패드랑 펜슬까지 구매완료해서아이폰 애플워치 에어팟ㅎㅎㅎ 사과농장 다꾸럈어요처음으로 태블릿을 샀는데 ㅋㅍ에서 사서 신나게 펜슬로 끄적이고있었는데 동영상처럼 오류가 뜨더라구요ㅠ                도움말라이센스            동영상 인코딩 중입니다분 이상 소요될 수 있으며 영상의 길이에 따라 소요 시간은 달라집니다  마우스를 드래그 하세요 도움말  멀티트랙의 트랙별 영상은 우측 관련영상에서 볼 수 있습니다선거광고 안내       음소거   화질 선택 옵션 화질  전체화면   광고정보 더보기초 후 초 후 재생광고 후 계속됩니다 공유소스 코드     주소복사 소스        복사 미지원으로  코드 퍼가기 기능은 더 이상 지원되지않습니다도움말 플레이어  복사 레이어 닫기접기펴기아이패드불량아이패드에어불량아이패드멍현상에어화면눌림현상 보시면 이렇게 오류가 생기더라구요ㅠ 크게 힘을 누른것도 아닌데 펜슬로 쓰다보니 나비모양처럼 되던데 불량인가요찝찝해서 교환해서 새상품을 받았는데 새로받은걸 확인 차 눌러보니깐 새상품에서도 나타나더라구요 기존에 갖고있던 갤탭은 나비모양처럼 멍현상은 없던데 제가 뽑기실패를 한건지 예민한건지 모르겠어요ㅠ')"
   ]
  },
  {
   "cell_type": "code",
   "execution_count": null,
   "metadata": {
    "id": "LeKRyrlxYn-z"
   },
   "outputs": [],
   "source": [
    "sen"
   ]
  }
 ],
 "metadata": {
  "colab": {
   "authorship_tag": "ABX9TyPO1bletUgw0F1vaxEaGV/y",
   "name": "자연어처리_감성어분류(쇼핑리뷰참고).ipynb",
   "provenance": []
  },
  "kernelspec": {
   "display_name": "Python 3",
   "language": "python",
   "name": "python3"
  },
  "language_info": {
   "codemirror_mode": {
    "name": "ipython",
    "version": 3
   },
   "file_extension": ".py",
   "mimetype": "text/x-python",
   "name": "python",
   "nbconvert_exporter": "python",
   "pygments_lexer": "ipython3",
   "version": "3.8.5"
  },
  "toc": {
   "base_numbering": 1,
   "nav_menu": {},
   "number_sections": true,
   "sideBar": true,
   "skip_h1_title": false,
   "title_cell": "Table of Contents",
   "title_sidebar": "Contents",
   "toc_cell": false,
   "toc_position": {},
   "toc_section_display": true,
   "toc_window_display": false
  }
 },
 "nbformat": 4,
 "nbformat_minor": 1
}
